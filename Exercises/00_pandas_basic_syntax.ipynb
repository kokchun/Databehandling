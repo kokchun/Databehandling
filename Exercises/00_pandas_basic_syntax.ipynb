{
 "cells": [
  {
   "cell_type": "markdown",
   "source": [
    "\r\n",
    "<a href=\"https://colab.research.google.com/github/kokchun/Databehandling-21/blob/main/Exercises/00_pandas_basic_syntax.ipynb\" target=\"_parent\"><img align=\"left\" src=\"https://colab.research.google.com/assets/colab-badge.svg\" alt=\"Open In Colab\"/></a> &nbsp; to see hints and answers."
   ],
   "metadata": {}
  },
  {
   "cell_type": "markdown",
   "source": [
    "# pandas fundamentals exercises\r\n",
    "\r\n",
    "---\r\n",
    "These are introductory exercises in Pandas with focus in **syntax, DataFrame, indexing**.\r\n",
    "\r\n",
    "<p class = \"alert alert-info\" role=\"alert\"><b>Note</b> that there are usually many ways to achieve same results using operations in pandas. Feel free to investigate several ways. </p>\r\n",
    "\r\n",
    "<p class = \"alert alert-info\" role=\"alert\"><b>Remember</b> to use <b>descriptive variable, function, index </b> and <b> column names</b> in order to get readable code </p>\r\n",
    "\r\n",
    "<p class = \"alert alert-info\" role=\"alert\"><b>Remember</b> to format your input questions in a pedagogical way to guide the user\r\n",
    "\r\n",
    "The number of stars (\\*), (\\*\\*), (\\*\\*\\*) denotes the difficulty level of the task\r\n",
    "\r\n",
    "---"
   ],
   "metadata": {}
  },
  {
   "cell_type": "markdown",
   "source": [
    "## 1. Cities in Sweden (*)\r\n",
    "\r\n",
    "Create this DataFrame from scratch: \r\n",
    "\r\n",
    "<p>\r\n",
    "\r\n",
    "|    | Kommun    |   Population |\r\n",
    "|---:|:----------|-------------:|\r\n",
    "|  0 | Malmö     |       347949 |\r\n",
    "|  1 | Stockholm |       975551 |\r\n",
    "|  2 | Uppsala   |       233839 |\r\n",
    "|  3 | Göteborg  |       583056 |\r\n",
    "\r\n",
    "</p>\r\n",
    "\r\n",
    "&nbsp; a) Use your DataFrame to print out all the cities. (*)\r\n",
    "\r\n",
    "&nbsp; b) Select only the row which contains Göteborg. Do this by using the name Göteborg. (*)\r\n",
    "\r\n",
    "&nbsp; c) Sort the cities by population from largest to smallest. (*)\r\n",
    "\r\n",
    "&nbsp; d) Filter out the three largest cities. (*)\r\n",
    "\r\n",
    "&nbsp; e) The whole population in Sweden 2020 is 10379295. Use this number to create a new column in your sorted DataFrame named: Population (%). This column should be filled with percentage of the Swedish population for each city. \r\n",
    "\r\n",
    "\r\n",
    "<details>\r\n",
    "\r\n",
    "<summary>Answer</summary>\r\n",
    "\r\n",
    "a) \r\n",
    "\r\n",
    "```\r\n",
    "0        Malmö\r\n",
    "1    Stockholm\r\n",
    "2      Uppsala\r\n",
    "3     Göteborg\r\n",
    "```\r\n",
    "\r\n",
    "b)\r\n",
    "\r\n",
    "|    | Kommun   |   Population |\r\n",
    "|---:|:---------|-------------:|\r\n",
    "|  3 | Göteborg |       583056 |\r\n",
    "\r\n",
    "c) \r\n",
    "\r\n",
    "|    | Kommun    |   Population |\r\n",
    "|---:|:----------|-------------:|\r\n",
    "|  0 | Stockholm |       975551 |\r\n",
    "|  1 | Göteborg  |       583056 |\r\n",
    "|  2 | Malmö     |       347949 |\r\n",
    "|  3 | Uppsala   |       233839 |\r\n",
    "\r\n",
    "\r\n",
    "d)\r\n",
    "\r\n",
    "|    | Kommun    |   Population |\r\n",
    "|---:|:----------|-------------:|\r\n",
    "|  0 | Stockholm |       975551 |\r\n",
    "|  1 | Göteborg  |       583056 |\r\n",
    "|  2 | Malmö     |       347949 |\r\n",
    "\r\n",
    "e)\r\n",
    "\r\n",
    "|    | Kommun    |   Population |   Population (%) |\r\n",
    "|---:|:----------|-------------:|-----------------:|\r\n",
    "|  0 | Stockholm |       975551 |              9.4 |\r\n",
    "|  1 | Göteborg  |       583056 |              5.6 |\r\n",
    "|  2 | Malmö     |       347949 |              3.4 |\r\n",
    "|  3 | Uppsala   |       233839 |              2.3 |\r\n",
    "\r\n",
    "</details>\r\n"
   ],
   "metadata": {}
  },
  {
   "cell_type": "markdown",
   "source": [],
   "metadata": {}
  }
 ],
 "metadata": {
  "orig_nbformat": 4,
  "language_info": {
   "name": "python",
   "version": "3.9.5",
   "mimetype": "text/x-python",
   "codemirror_mode": {
    "name": "ipython",
    "version": 3
   },
   "pygments_lexer": "ipython3",
   "nbconvert_exporter": "python",
   "file_extension": ".py"
  },
  "kernelspec": {
   "name": "python3",
   "display_name": "Python 3.9.5 64-bit"
  },
  "interpreter": {
   "hash": "a6af3a3bb251bcb72cfdd789c0ff929377064d8a2e64281876c18e53714e278c"
  }
 },
 "nbformat": 4,
 "nbformat_minor": 2
}