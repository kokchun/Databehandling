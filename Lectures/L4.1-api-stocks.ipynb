{
 "cells": [
  {
   "cell_type": "markdown",
   "metadata": {},
   "source": [
    "\n",
    "<a href=\"https://colab.research.google.com/github/kokchun/Databehandling-21/blob/main/Lectures/L4.1-api-stocks.ipynb\" target=\"_parent\"><img align=\"left\" src=\"https://colab.research.google.com/assets/colab-badge.svg\" alt=\"Open In Colab\"/></a> &nbsp; for interacting with the code"
   ]
  },
  {
   "cell_type": "markdown",
   "metadata": {},
   "source": [
    "---\n",
    "# Lecture notes - Stockdata 1 - API\n",
    "---\n",
    "\n",
    "This is a lecture note on stock data from API - but it's built upon contents from pandas and previous course: \n",
    "- Python programming\n",
    "\n",
    "<p class = \"alert alert-info\" role=\"alert\"><b>Note</b> that this lecture note gives a brief introduction to merging. I encourage you to read further about API.\n",
    "\n",
    "Read more \n",
    "\n",
    "- [API-key .env](https://www.youtube.com/watch?v=YdgIWTYQ69A)\n",
    "- [REST API theory](https://en.wikipedia.org/wiki/Representational_state_transfer)\n",
    "- [Python - requests](https://www.youtube.com/watch?v=tb8gHvYlCFs)\n",
    "\n",
    "\n",
    "---"
   ]
  },
  {
   "cell_type": "markdown",
   "metadata": {},
   "source": [
    "## Stocks API \n",
    "\n",
    "Go into [Alpha Vantage](https://www.alphavantage.co/documentation/) and read the documentation of the time series APIs\n",
    "\n",
    "- Go into [claim API key](https://www.alphavantage.co/support/#api-key) and fill in the form to claim your free API-key\n",
    "\n",
    "- You will be using the API key to access stock data\n",
    "\n",
    "- Create a file called .env and type: \n",
    "```py\n",
    "ALPHA_API_KEY = ...\n",
    "```\n",
    "- the dots should be your API key\n",
    "- go into your .gitignore file in your repo and make sure that there is .env there so that you don't push the .env file to a public Github repo where anyone can access your key and do stuffs in your name"
   ]
  },
  {
   "cell_type": "code",
   "execution_count": null,
   "metadata": {},
   "outputs": [],
   "source": []
  },
  {
   "cell_type": "markdown",
   "metadata": {},
   "source": [
    "---\n",
    "\n",
    "Kokchun Giang\n",
    "\n",
    "[LinkedIn][linkedIn_kokchun]\n",
    "\n",
    "[GitHub portfolio][github_portfolio]\n",
    "\n",
    "[linkedIn_kokchun]: https://www.linkedin.com/in/kokchungiang/\n",
    "[github_portfolio]: https://github.com/kokchun/Portfolio-Kokchun-Giang\n",
    "\n",
    "---"
   ]
  }
 ],
 "metadata": {
  "language_info": {
   "name": "python"
  },
  "orig_nbformat": 4
 },
 "nbformat": 4,
 "nbformat_minor": 2
}
