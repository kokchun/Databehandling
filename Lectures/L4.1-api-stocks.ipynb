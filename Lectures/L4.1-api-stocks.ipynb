{
 "cells": [
  {
   "cell_type": "markdown",
   "metadata": {},
   "source": [
    "\n",
    "<a href=\"https://colab.research.google.com/github/kokchun/Databehandling-21/blob/main/Lectures/L4.1-api-stocks.ipynb\" target=\"_parent\"><img align=\"left\" src=\"https://colab.research.google.com/assets/colab-badge.svg\" alt=\"Open In Colab\"/></a> &nbsp; for interacting with the code"
   ]
  },
  {
   "cell_type": "markdown",
   "metadata": {},
   "source": [
    "---\n",
    "# Lecture notes - Stockdata 1 - API\n",
    "---\n",
    "\n",
    "This is a lecture note on stock data from API - but it's built upon contents from pandas and previous course: \n",
    "- Python programming\n",
    "\n",
    "<p class = \"alert alert-info\" role=\"alert\"><b>Note</b> that this lecture note gives a brief introduction to merging. I encourage you to read further about API.\n",
    "\n",
    "Read more \n",
    "\n",
    "- [video - API-key .env](https://www.youtube.com/watch?v=YdgIWTYQ69A)\n",
    "- [wikipedia - REST API theory](https://en.wikipedia.org/wiki/Representational_state_transfer)\n",
    "- [video - Python - requests](https://www.youtube.com/watch?v=tb8gHvYlCFs)\n",
    "- [w3schools - requests](https://www.w3schools.com/python/module_requests.asp)\n",
    "\n",
    "---"
   ]
  },
  {
   "cell_type": "markdown",
   "metadata": {},
   "source": [
    "## Stocks API \n",
    "\n",
    "Go into [Alpha Vantage](https://www.alphavantage.co/documentation/) and read the documentation of the time series APIs\n",
    "\n",
    "- Go into [claim API key](https://www.alphavantage.co/support/#api-key) and fill in the form to claim your free API-key\n",
    "\n",
    "- You will be using the API key to access stock data\n",
    "\n",
    "- Create a file called .env and type: \n",
    "```py\n",
    "ALPHA_API_KEY = ...\n",
    "```\n",
    "- the dots should be your API key\n",
    "- go into your .gitignore file in your repo and make sure that there is .env there so that you don't push the .env file to a public Github repo where anyone can access your key and do stuffs in your name\n",
    "\n",
    "**Setup**\n",
    "\n",
    "- pipenv install python-dotenv\n",
    "\n",
    "\n",
    "\n",
    "[Symbols of stocks](https://www.nasdaq.com/market-activity/stocks/screener) that is useful for get-request"
   ]
  },
  {
   "cell_type": "code",
   "execution_count": 2,
   "metadata": {},
   "outputs": [],
   "source": [
    "import os \n",
    "from dotenv import load_dotenv\n",
    "import requests \n",
    "import pandas as pd \n",
    "\n",
    "load_dotenv()\n",
    "api_key = os.getenv(\"ALPHA_API_KEY\") \n",
    "# NOTE: you can print it for your own validation, but remove the print before pushing to Github\n",
    "\n"
   ]
  },
  {
   "cell_type": "code",
   "execution_count": null,
   "metadata": {},
   "outputs": [],
   "source": []
  },
  {
   "cell_type": "code",
   "execution_count": null,
   "metadata": {},
   "outputs": [],
   "source": []
  },
  {
   "cell_type": "markdown",
   "metadata": {},
   "source": [
    "---\n",
    "\n",
    "Kokchun Giang\n",
    "\n",
    "[LinkedIn][linkedIn_kokchun]\n",
    "\n",
    "[GitHub portfolio][github_portfolio]\n",
    "\n",
    "[linkedIn_kokchun]: https://www.linkedin.com/in/kokchungiang/\n",
    "[github_portfolio]: https://github.com/kokchun/Portfolio-Kokchun-Giang\n",
    "\n",
    "---"
   ]
  }
 ],
 "metadata": {
  "interpreter": {
   "hash": "89ed53b8d5edeb9e9b1a5c68a88e01bddebf013b1d58906f2d3c0a56d645ebae"
  },
  "kernelspec": {
   "display_name": "Python 3.9.7 64-bit ('Databehandling-lIz8p_xq': pipenv)",
   "name": "python3"
  },
  "language_info": {
   "codemirror_mode": {
    "name": "ipython",
    "version": 3
   },
   "file_extension": ".py",
   "mimetype": "text/x-python",
   "name": "python",
   "nbconvert_exporter": "python",
   "pygments_lexer": "ipython3",
   "version": "3.9.7"
  },
  "orig_nbformat": 4
 },
 "nbformat": 4,
 "nbformat_minor": 2
}
