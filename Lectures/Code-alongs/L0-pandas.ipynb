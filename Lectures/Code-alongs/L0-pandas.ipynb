{
 "cells": [
  {
   "cell_type": "markdown",
   "metadata": {},
   "source": [
    "# Intro till Pandas\n",
    "- Series object\n",
    "- DataFrame object"
   ]
  },
  {
   "cell_type": "code",
   "execution_count": 2,
   "metadata": {},
   "outputs": [
    {
     "data": {
      "text/plain": [
       "AI      25\n",
       "NET     30\n",
       "APP     27\n",
       "Java    23\n",
       "dtype: int64"
      ]
     },
     "execution_count": 2,
     "metadata": {},
     "output_type": "execute_result"
    }
   ],
   "source": [
    "import pandas as pd \n",
    "\n",
    "data = dict(AI = 25, NET=30, APP = 27, Java = 23)\n",
    "data2 = dict(AI = \"25\", NET=30, APP = 27, Java = 23)\n",
    "series = pd.Series(data=data)\n",
    "series "
   ]
  },
  {
   "cell_type": "markdown",
   "metadata": {},
   "source": []
  }
 ],
 "metadata": {
  "interpreter": {
   "hash": "546cc3b3ce5360cbdb485aa0b0c3c2439fd61639081f0e14348bb4ac5b946eda"
  },
  "kernelspec": {
   "display_name": "Python 3.9.6 64-bit ('Databehandling-Kokchun-Giang-4oaWqXcr': pipenv)",
   "name": "python3"
  },
  "language_info": {
   "codemirror_mode": {
    "name": "ipython",
    "version": 3
   },
   "file_extension": ".py",
   "mimetype": "text/x-python",
   "name": "python",
   "nbconvert_exporter": "python",
   "pygments_lexer": "ipython3",
   "version": "3.9.6"
  },
  "orig_nbformat": 4
 },
 "nbformat": 4,
 "nbformat_minor": 2
}
